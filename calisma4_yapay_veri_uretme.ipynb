{
  "nbformat": 4,
  "nbformat_minor": 0,
  "metadata": {
    "colab": {
      "name": "calisma4_yapay_veri_uretme.ipynb",
      "private_outputs": true,
      "provenance": [],
      "authorship_tag": "ABX9TyNVDDq117KcpnkZyd+BFOYI",
      "include_colab_link": true
    },
    "kernelspec": {
      "name": "python3",
      "display_name": "Python 3"
    },
    "language_info": {
      "name": "python"
    }
  },
  "cells": [
    {
      "cell_type": "markdown",
      "metadata": {
        "id": "view-in-github",
        "colab_type": "text"
      },
      "source": [
        "<a href=\"https://colab.research.google.com/github/tayfununal/2-Hidden-Layer-Neural-Networks/blob/master/calisma4_yapay_veri_uretme.ipynb\" target=\"_parent\"><img src=\"https://colab.research.google.com/assets/colab-badge.svg\" alt=\"Open In Colab\"/></a>"
      ]
    },
    {
      "cell_type": "code",
      "metadata": {
        "id": "Au_snBBWsSkH"
      },
      "source": [
        "import numpy as np\n",
        "import matplotlib.pyplot as plt"
      ],
      "execution_count": null,
      "outputs": []
    },
    {
      "cell_type": "code",
      "metadata": {
        "id": "X36s5rzysb_T"
      },
      "source": [
        "y = np.random.normal(1,0.1,1000)"
      ],
      "execution_count": null,
      "outputs": []
    },
    {
      "cell_type": "code",
      "metadata": {
        "id": "WGGvy6ods6yb"
      },
      "source": [
        "plt.hist(y)\n",
        "plt.show()"
      ],
      "execution_count": null,
      "outputs": []
    },
    {
      "cell_type": "code",
      "metadata": {
        "id": "xkdyfqO3tBT0"
      },
      "source": [
        "\"\"\"\n",
        "x = np.arange(20,1001,20)\n",
        "print(type(x))\n",
        "\"\"\""
      ],
      "execution_count": null,
      "outputs": []
    },
    {
      "cell_type": "code",
      "metadata": {
        "id": "7dMemaTJEE5a"
      },
      "source": [
        "kelime_sayısı = np.round(np.random.uniform(20,300,150))\n",
        "kelime_sayısı"
      ],
      "execution_count": null,
      "outputs": []
    },
    {
      "cell_type": "code",
      "metadata": {
        "id": "V5eokZrfEk66"
      },
      "source": [
        "plt.hist(kelime_sayısı)\n",
        "plt.show()"
      ],
      "execution_count": null,
      "outputs": []
    },
    {
      "cell_type": "code",
      "metadata": {
        "id": "EI1UdQ2fxc4W"
      },
      "source": [
        "kalma_suresi = []\n",
        "for i in kelime_sayısı:\n",
        "  kalma_suresi.append(0.161 * i + 6)\n",
        "y = np.array(kalma_suresi)\n",
        "print(kalma_suresi)"
      ],
      "execution_count": null,
      "outputs": []
    },
    {
      "cell_type": "code",
      "metadata": {
        "id": "3ahg8-rIEqp5"
      },
      "source": [
        "data = []\n",
        "for i in kelime_sayısı:\n",
        "  for j in kalma_suresi:\n",
        "    sample = np.random.normal(j,10,20)\n",
        "    for k in sample:\n",
        "      data.append([i, k])\n",
        "len(data)"
      ],
      "execution_count": null,
      "outputs": []
    },
    {
      "cell_type": "code",
      "metadata": {
        "id": "LbFi2o9gGdcZ"
      },
      "source": [
        ""
      ],
      "execution_count": null,
      "outputs": []
    }
  ]
}