{
  "nbformat": 4,
  "nbformat_minor": 0,
  "metadata": {
    "colab": {
      "name": "calisma.ipynb",
      "private_outputs": true,
      "provenance": [],
      "authorship_tag": "ABX9TyOSYZJolCF1w5rPpYvAi32H",
      "include_colab_link": true
    },
    "kernelspec": {
      "name": "python3",
      "display_name": "Python 3"
    },
    "language_info": {
      "name": "python"
    }
  },
  "cells": [
    {
      "cell_type": "markdown",
      "metadata": {
        "id": "view-in-github",
        "colab_type": "text"
      },
      "source": [
        "<a href=\"https://colab.research.google.com/github/tayfununal/2-Hidden-Layer-Neural-Networks/blob/master/calisma.ipynb\" target=\"_parent\"><img src=\"https://colab.research.google.com/assets/colab-badge.svg\" alt=\"Open In Colab\"/></a>"
      ]
    },
    {
      "cell_type": "code",
      "metadata": {
        "id": "0Mk9sa0_8af3"
      },
      "source": [
        "import numpy as np\n",
        "import pandas as pd\n",
        "import tensorflow as tf\n",
        "from tensorflow.keras import Model, Input\n",
        "from tensorflow.keras.layers import Dense, Softmax\n",
        "from tensorflow.keras.optimizers import Adam, SGD\n",
        "from keras.utils import np_utils\n",
        "from tensorflow.keras import regularizers"
      ],
      "execution_count": null,
      "outputs": []
    },
    {
      "cell_type": "code",
      "metadata": {
        "id": "tT67oteRBUnE"
      },
      "source": [
        "# Data\n",
        "df = pd.read_csv ('/content/explicit_max.csv', sep=\",\" , header=None)"
      ],
      "execution_count": null,
      "outputs": []
    },
    {
      "cell_type": "code",
      "metadata": {
        "id": "XYZ7GSDL6TbA"
      },
      "source": [
        "df_fail = df[df[6]>1][df[7]==1]\n",
        "df_fail"
      ],
      "execution_count": null,
      "outputs": []
    },
    {
      "cell_type": "code",
      "metadata": {
        "id": "AXfBeWdHaXn4"
      },
      "source": [
        "df_fail.index"
      ],
      "execution_count": null,
      "outputs": []
    },
    {
      "cell_type": "code",
      "metadata": {
        "id": "I-kRwSFnbblp"
      },
      "source": [
        "df = df.drop(index=df_fail.index)\n",
        "df =  df[df[4]>3]"
      ],
      "execution_count": null,
      "outputs": []
    },
    {
      "cell_type": "code",
      "metadata": {
        "id": "ElsAqBbCJW8l"
      },
      "source": [
        "x = df[[3,4,5,6]]\n",
        "y = df[[7]]"
      ],
      "execution_count": null,
      "outputs": []
    },
    {
      "cell_type": "code",
      "metadata": {
        "id": "cTHtYStpO-E5"
      },
      "source": [
        "len(x)"
      ],
      "execution_count": null,
      "outputs": []
    },
    {
      "cell_type": "code",
      "metadata": {
        "id": "Lok5LGHAPc_x"
      },
      "source": [
        "x = np.array(x)\n",
        "y = np.squeeze(np.array(y))\n",
        "y.shape"
      ],
      "execution_count": null,
      "outputs": []
    },
    {
      "cell_type": "code",
      "metadata": {
        "id": "0-jxAzgPaFhM"
      },
      "source": [
        "print(x)\n",
        "print(y)"
      ],
      "execution_count": null,
      "outputs": []
    },
    {
      "cell_type": "code",
      "metadata": {
        "id": "gxpEhHAhmU1y"
      },
      "source": [
        "y[y==1] = 0\n",
        "y[y>1] =1"
      ],
      "execution_count": null,
      "outputs": []
    },
    {
      "cell_type": "code",
      "metadata": {
        "id": "x38r1nzumtRB"
      },
      "source": [
        "y"
      ],
      "execution_count": null,
      "outputs": []
    },
    {
      "cell_type": "code",
      "metadata": {
        "id": "l5Fb9ARzYW0s"
      },
      "source": [
        "x = (x - x.min(axis=0)) / (x.max(axis=0) - x.min(axis=0))\n",
        "x"
      ],
      "execution_count": null,
      "outputs": []
    },
    {
      "cell_type": "code",
      "metadata": {
        "id": "lfz2uW8QBTxV"
      },
      "source": [
        "#Y_train = np_utils.to_categorical(y)\n",
        "#Y_train = Y_train[:,1:]\n",
        "#Y_train"
      ],
      "execution_count": null,
      "outputs": []
    },
    {
      "cell_type": "code",
      "metadata": {
        "id": "9EK_WjzPCxK_"
      },
      "source": [
        " from sklearn.model_selection import train_test_split\n",
        " X_train, X_test, y_train, y_test = train_test_split(x, y, test_size=0.20, random_state=42, shuffle = True)"
      ],
      "execution_count": null,
      "outputs": []
    },
    {
      "cell_type": "code",
      "metadata": {
        "id": "I8bAtd-RDL_w"
      },
      "source": [
        "print(X_train.shape)\n",
        "print(X_test.shape)\n",
        "print(y_train.shape)\n",
        "print(y_test.shape)"
      ],
      "execution_count": null,
      "outputs": []
    },
    {
      "cell_type": "code",
      "metadata": {
        "id": "Fe2oGEEW9-h2"
      },
      "source": [
        "# Model\n",
        "input_x = Input(shape=(None,4))\n",
        "hidden = Dense(512, activation=\"relu\", kernel_regularizer=regularizers.l2(0.0001))(input_x)\n",
        "hidden = Dense(256, activation=\"relu\", kernel_regularizer=regularizers.l2(0.0001))(hidden)\n",
        "hidden = Dense(128, activation=\"relu\", kernel_regularizer=regularizers.l2(0.0001))(hidden)\n",
        "hidden = Dense(32, activation=\"relu\", kernel_regularizer=regularizers.l2(0.0001))(hidden)\n",
        "hidden = Dense(32, activation=\"relu\", kernel_regularizer=regularizers.l2(0.0001))(hidden)\n",
        "hidden = Dense(8, activation=\"relu\", kernel_regularizer=regularizers.l2(0.0001))(hidden)\n",
        "output = Dense(1, activation=\"sigmoid\")(hidden)\n",
        "model = Model(inputs=input_x, outputs=output)"
      ],
      "execution_count": null,
      "outputs": []
    },
    {
      "cell_type": "code",
      "metadata": {
        "id": "EV7YIEEuVvrb"
      },
      "source": [
        "model.summary()"
      ],
      "execution_count": null,
      "outputs": []
    },
    {
      "cell_type": "code",
      "metadata": {
        "id": "DWPx6FPq9gEU"
      },
      "source": [
        "model.compile(loss='binary_crossentropy', optimizer=Adam(learning_rate=0.00001), metrics=['accuracy'])"
      ],
      "execution_count": null,
      "outputs": []
    },
    {
      "cell_type": "code",
      "metadata": {
        "id": "neHTKTFMBFzY"
      },
      "source": [
        "history = model.fit(X_train, y_train, batch_size=32, validation_split=0.20,\n",
        "                    epochs=5000,\n",
        "                    verbose=1)"
      ],
      "execution_count": null,
      "outputs": []
    },
    {
      "cell_type": "code",
      "metadata": {
        "id": "pZv9qb1G3QUJ"
      },
      "source": [
        "sample_to_predict = X_test\n",
        "y_sample = y_test"
      ],
      "execution_count": null,
      "outputs": []
    },
    {
      "cell_type": "code",
      "metadata": {
        "id": "Cb7wCU2V4T_x"
      },
      "source": [
        "print(sample_to_predict)\n",
        "print(y_sample)"
      ],
      "execution_count": null,
      "outputs": []
    },
    {
      "cell_type": "code",
      "metadata": {
        "id": "up5bprW3OBSd"
      },
      "source": [
        "print(sample_to_predict.shape)\n",
        "print(y_sample.shape)\n",
        "y_sample"
      ],
      "execution_count": null,
      "outputs": []
    },
    {
      "cell_type": "code",
      "metadata": {
        "id": "B3gKk79nSKje"
      },
      "source": [
        "predictions = model.predict(sample_to_predict)"
      ],
      "execution_count": null,
      "outputs": []
    },
    {
      "cell_type": "code",
      "metadata": {
        "id": "zaQ47T9m4i6M"
      },
      "source": [
        "print(predictions)"
      ],
      "execution_count": null,
      "outputs": []
    },
    {
      "cell_type": "code",
      "metadata": {
        "id": "a3ESYGcK4jZS"
      },
      "source": [
        "y_hat = np.argmax(predictions, axis = 1)\n",
        "y_hat"
      ],
      "execution_count": null,
      "outputs": []
    },
    {
      "cell_type": "code",
      "metadata": {
        "id": "pjFZrBOKPBYD"
      },
      "source": [
        "yanlis=0\n",
        "for i in range(len(y_hat)):\n",
        "  if (np.absolute(y_hat[i] - y_test[i]))> 0:\n",
        "    yanlis+=1\n",
        "print(yanlis)"
      ],
      "execution_count": null,
      "outputs": []
    },
    {
      "cell_type": "code",
      "metadata": {
        "id": "gozHlOp8QUcN"
      },
      "source": [
        "(142-yanlis)/142"
      ],
      "execution_count": null,
      "outputs": []
    },
    {
      "cell_type": "code",
      "metadata": {
        "id": "HNwmSRbgQ9en"
      },
      "source": [
        ">>> from sklearn.metrics import precision_score"
      ],
      "execution_count": null,
      "outputs": []
    },
    {
      "cell_type": "code",
      "metadata": {
        "id": "Al6FCEgK198F"
      },
      "source": [
        "precision_score(y_test, y_hat, average=None)"
      ],
      "execution_count": null,
      "outputs": []
    }
  ]
}