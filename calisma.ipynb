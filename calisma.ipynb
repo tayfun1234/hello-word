{
  "nbformat": 4,
  "nbformat_minor": 0,
  "metadata": {
    "colab": {
      "name": "calisma.ipynb",
      "private_outputs": true,
      "provenance": [],
      "authorship_tag": "ABX9TyNexMjKLwfqq4rB4EPJldUa",
      "include_colab_link": true
    },
    "kernelspec": {
      "name": "python3",
      "display_name": "Python 3"
    },
    "language_info": {
      "name": "python"
    }
  },
  "cells": [
    {
      "cell_type": "markdown",
      "metadata": {
        "id": "view-in-github",
        "colab_type": "text"
      },
      "source": [
        "<a href=\"https://colab.research.google.com/github/tayfununal/2-Hidden-Layer-Neural-Networks/blob/master/calisma.ipynb\" target=\"_parent\"><img src=\"https://colab.research.google.com/assets/colab-badge.svg\" alt=\"Open In Colab\"/></a>"
      ]
    },
    {
      "cell_type": "code",
      "metadata": {
        "id": "0Mk9sa0_8af3"
      },
      "source": [
        "import numpy as np\n",
        "import pandas as pd\n",
        "import tensorflow as tf\n",
        "from tensorflow.keras import Model, Input\n",
        "from tensorflow.keras.layers import Dense, Softmax\n",
        "from tensorflow.keras.optimizers import Adam, SGD\n",
        "from keras.utils import np_utils"
      ],
      "execution_count": null,
      "outputs": []
    },
    {
      "cell_type": "code",
      "metadata": {
        "id": "tT67oteRBUnE"
      },
      "source": [
        "# Data\n",
        "df = pd.read_csv ('/content/explicit_max.csv', sep=\",\" , header=None)"
      ],
      "execution_count": null,
      "outputs": []
    },
    {
      "cell_type": "code",
      "metadata": {
        "id": "ElsAqBbCJW8l"
      },
      "source": [
        "x = df[[3,4,5,6]]\n",
        "y = df[[7]]"
      ],
      "execution_count": null,
      "outputs": []
    },
    {
      "cell_type": "code",
      "metadata": {
        "id": "jK5-2VSGOqes"
      },
      "source": [
        "x"
      ],
      "execution_count": null,
      "outputs": []
    },
    {
      "cell_type": "code",
      "metadata": {
        "id": "cTHtYStpO-E5"
      },
      "source": [
        "y"
      ],
      "execution_count": null,
      "outputs": []
    },
    {
      "cell_type": "code",
      "metadata": {
        "id": "Lok5LGHAPc_x"
      },
      "source": [
        "x = np.array(x)\n",
        "y = np.squeeze(np.array(y))\n",
        "x.shape"
      ],
      "execution_count": null,
      "outputs": []
    },
    {
      "cell_type": "code",
      "metadata": {
        "id": "0-jxAzgPaFhM"
      },
      "source": [
        "y"
      ],
      "execution_count": null,
      "outputs": []
    },
    {
      "cell_type": "code",
      "metadata": {
        "id": "0Uh1fj0NaEZl"
      },
      "source": [
        "for i in range(len(y)):\n",
        "  if y[i]>1 :\n",
        "    y[i]= 2"
      ],
      "execution_count": null,
      "outputs": []
    },
    {
      "cell_type": "code",
      "metadata": {
        "id": "MiExZ7A3aQtu"
      },
      "source": [
        "y"
      ],
      "execution_count": null,
      "outputs": []
    },
    {
      "cell_type": "code",
      "metadata": {
        "id": "l5Fb9ARzYW0s"
      },
      "source": [
        "x = (x - x.min(axis=0)) / (x.max(axis=0) - x.min(axis=0))\n",
        "x"
      ],
      "execution_count": null,
      "outputs": []
    },
    {
      "cell_type": "code",
      "metadata": {
        "id": "lfz2uW8QBTxV"
      },
      "source": [
        "Y_train = np_utils.to_categorical(y)\n",
        "Y_train = Y_train[:,1:]"
      ],
      "execution_count": null,
      "outputs": []
    },
    {
      "cell_type": "code",
      "metadata": {
        "id": "df6Z_yiIR8Jj"
      },
      "source": [
        "Y_train"
      ],
      "execution_count": null,
      "outputs": []
    },
    {
      "cell_type": "code",
      "metadata": {
        "id": "Fe2oGEEW9-h2"
      },
      "source": [
        "# Model\n",
        "input_x = Input(shape=(None,4))\n",
        "hidden = Dense(512, activation=\"relu\")(input_x)\n",
        "hidden = Dense(256, activation=\"relu\")(hidden)\n",
        "hidden = Dense(128, activation=\"relu\")(hidden)\n",
        "hidden = Dense(64, activation=\"relu\")(hidden)\n",
        "hidden = Dense(64, activation=\"relu\")(hidden)\n",
        "hidden = Dense(32, activation=\"relu\")(hidden)\n",
        "output = Dense(5, activation=\"softmax\")(hidden)\n",
        "model = Model(inputs=input_x, outputs=output)"
      ],
      "execution_count": null,
      "outputs": []
    },
    {
      "cell_type": "code",
      "metadata": {
        "id": "EV7YIEEuVvrb"
      },
      "source": [
        "model.summary()"
      ],
      "execution_count": null,
      "outputs": []
    },
    {
      "cell_type": "code",
      "metadata": {
        "id": "DWPx6FPq9gEU"
      },
      "source": [
        "model.compile(loss='categorical_crossentropy', optimizer=Adam(learning_rate=0.001), metrics=['accuracy'])"
      ],
      "execution_count": null,
      "outputs": []
    },
    {
      "cell_type": "code",
      "metadata": {
        "id": "neHTKTFMBFzY"
      },
      "source": [
        "history = model.fit(x, Y_train, batch_size=10, \n",
        "                    epochs=5000,\n",
        "                    verbose=1)"
      ],
      "execution_count": null,
      "outputs": []
    },
    {
      "cell_type": "code",
      "metadata": {
        "id": "pZv9qb1G3QUJ"
      },
      "source": [
        "sample_to_predict = x[10:30,:]\n",
        "y_sample = Y_train[10:30] "
      ],
      "execution_count": null,
      "outputs": []
    },
    {
      "cell_type": "code",
      "metadata": {
        "id": "Cb7wCU2V4T_x"
      },
      "source": [
        "print(sample_to_predict)\n",
        "print(y_sample)"
      ],
      "execution_count": null,
      "outputs": []
    },
    {
      "cell_type": "code",
      "metadata": {
        "id": "B3gKk79nSKje"
      },
      "source": [
        "predictions = model.predict(sample_to_predict)"
      ],
      "execution_count": null,
      "outputs": []
    },
    {
      "cell_type": "code",
      "metadata": {
        "id": "zaQ47T9m4i6M"
      },
      "source": [
        "print(predictions)"
      ],
      "execution_count": null,
      "outputs": []
    },
    {
      "cell_type": "code",
      "metadata": {
        "id": "a3ESYGcK4jZS"
      },
      "source": [
        "np.argmax(predictions, axis = 1)"
      ],
      "execution_count": null,
      "outputs": []
    }
  ]
}