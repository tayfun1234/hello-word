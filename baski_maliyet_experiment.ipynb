{
  "nbformat": 4,
  "nbformat_minor": 0,
  "metadata": {
    "colab": {
      "name": "baski_maliyet_experiment.ipynb",
      "private_outputs": true,
      "provenance": [],
      "authorship_tag": "ABX9TyODw9wZVLkmpOeoo0UkngEW",
      "include_colab_link": true
    },
    "kernelspec": {
      "name": "python3",
      "display_name": "Python 3"
    }
  },
  "cells": [
    {
      "cell_type": "markdown",
      "metadata": {
        "id": "view-in-github",
        "colab_type": "text"
      },
      "source": [
        "<a href=\"https://colab.research.google.com/github/tayfununal/2-Hidden-Layer-Neural-Networks/blob/master/baski_maliyet_experiment.ipynb\" target=\"_parent\"><img src=\"https://colab.research.google.com/assets/colab-badge.svg\" alt=\"Open In Colab\"/></a>"
      ]
    },
    {
      "cell_type": "code",
      "metadata": {
        "id": "3YrQT10xAozO"
      },
      "source": [
        "import pandas as pd\n",
        "import numpy as np\n"
      ],
      "execution_count": null,
      "outputs": []
    },
    {
      "cell_type": "code",
      "metadata": {
        "id": "g6Y7g8q-A0w4"
      },
      "source": [
        "maliyet = pd.read_excel('/content/1000verili_sonuclar.xlsx')\n",
        "maliyet.head()"
      ],
      "execution_count": null,
      "outputs": []
    },
    {
      "cell_type": "code",
      "metadata": {
        "id": "HkOoIE7aCwpt"
      },
      "source": [
        "x = np.array(maliyet.iloc[19,:][1:])\n",
        "np.sum(x,axis=0)/100.\n"
      ],
      "execution_count": null,
      "outputs": []
    },
    {
      "cell_type": "code",
      "metadata": {
        "id": "_1thUPXNBA3s"
      },
      "source": [
        "maliyet = np.array(np.sum(maliyet, axis=1))/100.\n",
        "maliyet"
      ],
      "execution_count": null,
      "outputs": []
    },
    {
      "cell_type": "markdown",
      "metadata": {
        "id": "kkV_X0XxFNL-"
      },
      "source": [
        "###BASKİ MALİYET"
      ]
    },
    {
      "cell_type": "code",
      "metadata": {
        "id": "1haFe4xeE_VY"
      },
      "source": [
        "baski_maliyet = pd.read_excel('/content/baski_maliyet_exp_1000data.xlsx')\n",
        "baski_maliyet.head()"
      ],
      "execution_count": null,
      "outputs": []
    },
    {
      "cell_type": "code",
      "metadata": {
        "id": "MNwF0SGUFJpL"
      },
      "source": [
        "x = np.array(baski_maliyet.iloc[19,:][1:])\n",
        "np.sum(x,axis=0)/100.\n"
      ],
      "execution_count": null,
      "outputs": []
    },
    {
      "cell_type": "code",
      "metadata": {
        "id": "bSeQduJlFTYq"
      },
      "source": [
        "baski_maliyet = np.array(np.sum(baski_maliyet, axis=1))/100.\n",
        "baski_maliyet"
      ],
      "execution_count": null,
      "outputs": []
    },
    {
      "cell_type": "code",
      "metadata": {
        "id": "59lUtcOUFXUU"
      },
      "source": [
        "import matplotlib.pyplot as plt\n",
        "import numpy as np\n"
      ],
      "execution_count": null,
      "outputs": []
    },
    {
      "cell_type": "code",
      "metadata": {
        "id": "AwaO5ziQFotT"
      },
      "source": [
        "x1_axes = [i for i in range(1,21)]\n",
        "x2_axes = [i for i in range(1,21)]\n",
        "plt.plot(x1_axes, maliyet, color='blue', marker='o')\n",
        "plt.plot(x2_axes, baski_maliyet[1:], color='red', marker='o')\n",
        "#plt.title('Maliyet vs Baskı Maliyet', fontsize=9)\n",
        "plt.xlabel('Gizli Katmandaki Nöron Sayısı',fontsize=9)\n",
        "plt.ylabel('Maliyet Değeri',fontsize=9)\n",
        "plt.xticks(x2_axes)\n",
        "plt.grid(linestyle='-', linewidth=1)\n",
        "\n",
        "plt.legend(['Maliyet(n)', 'Baskı Maliyet(n+1)'], loc=('upper right'))\n",
        "plt.show()"
      ],
      "execution_count": null,
      "outputs": []
    },
    {
      "cell_type": "code",
      "metadata": {
        "id": "jyxHZbbCF6wL"
      },
      "source": [
        "x1_axes = [i for i in range(1,21)]\n",
        "x2_axes = [i for i in range(1,21)]\n",
        "plt.plot(x1_axes, maliyet, color='blue', marker='o')\n",
        "plt.plot(x2_axes, baski_maliyet[0:-1], color='red', marker='o')\n",
        "#plt.title('Maliyet vs Baskı Maliyet', fontsize=9)\n",
        "plt.xlabel('Gizli Katmandaki Nöron Sayısı',fontsize=9)\n",
        "plt.ylabel('Ortalama Maliyet ve Baskı Maliyet Değeri',fontsize=9)\n",
        "plt.xticks(x2_axes)\n",
        "plt.grid(linestyle='-', linewidth=1)\n",
        "\n",
        "plt.legend(['Ortalama Maliyet(n)', 'Ortalama Baskı Maliyet(n)'], loc=('upper right'))\n",
        "plt.show()"
      ],
      "execution_count": null,
      "outputs": []
    },
    {
      "cell_type": "code",
      "metadata": {
        "id": "kCOVte5buLsz"
      },
      "source": [
        ""
      ],
      "execution_count": null,
      "outputs": []
    }
  ]
}