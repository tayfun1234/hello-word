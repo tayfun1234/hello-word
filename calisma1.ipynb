{
  "nbformat": 4,
  "nbformat_minor": 0,
  "metadata": {
    "colab": {
      "name": "calisma1.ipynb",
      "private_outputs": true,
      "provenance": [],
      "authorship_tag": "ABX9TyO1apFf79+lZXmDQBzsY0Ow",
      "include_colab_link": true
    },
    "kernelspec": {
      "name": "python3",
      "display_name": "Python 3"
    },
    "language_info": {
      "name": "python"
    }
  },
  "cells": [
    {
      "cell_type": "markdown",
      "metadata": {
        "id": "view-in-github",
        "colab_type": "text"
      },
      "source": [
        "<a href=\"https://colab.research.google.com/github/tayfununal/2-Hidden-Layer-Neural-Networks/blob/master/calisma1.ipynb\" target=\"_parent\"><img src=\"https://colab.research.google.com/assets/colab-badge.svg\" alt=\"Open In Colab\"/></a>"
      ]
    },
    {
      "cell_type": "code",
      "metadata": {
        "id": "ALUcwweriPLS"
      },
      "source": [
        "import numpy as np\n",
        "import pandas as pd\n",
        "import tensorflow as tf\n",
        "from tensorflow.keras import Model, Input\n",
        "from tensorflow.keras.layers import Dense, Softmax\n",
        "from tensorflow.keras.optimizers import Adam, SGD\n",
        "from keras.utils import np_utils\n",
        "from tensorflow.keras import regularizers"
      ],
      "execution_count": null,
      "outputs": []
    },
    {
      "cell_type": "code",
      "metadata": {
        "id": "aJhYw8zuiULO"
      },
      "source": [
        "# Data\n",
        "df = pd.read_csv ('/content/explicit_max.csv', sep=\",\" , header=None)"
      ],
      "execution_count": null,
      "outputs": []
    },
    {
      "cell_type": "code",
      "metadata": {
        "id": "9fjNu91ciUo3"
      },
      "source": [
        "x = df[[3,4,5,6]]\n",
        "y = df[[7]]"
      ],
      "execution_count": null,
      "outputs": []
    },
    {
      "cell_type": "code",
      "metadata": {
        "id": "aPlqWg9jiYsW"
      },
      "source": [
        "x = np.array(x)\n",
        "y = np.squeeze(np.array(y))\n",
        "y.shape"
      ],
      "execution_count": null,
      "outputs": []
    },
    {
      "cell_type": "code",
      "metadata": {
        "id": "07YGUNRUibbF"
      },
      "source": [
        "x = (x - x.min(axis=0)) / (x.max(axis=0) - x.min(axis=0))\n",
        "x"
      ],
      "execution_count": null,
      "outputs": []
    },
    {
      "cell_type": "code",
      "metadata": {
        "id": "aUjQAQLIib22"
      },
      "source": [
        "Y_train = np_utils.to_categorical(y)\n",
        "Y_train = Y_train[:,1:]\n",
        "Y_train"
      ],
      "execution_count": null,
      "outputs": []
    },
    {
      "cell_type": "code",
      "metadata": {
        "id": "rlXnPjZkigQ2"
      },
      "source": [
        " from sklearn.model_selection import train_test_split\n",
        " X_train, X_test, y_train, y_test = train_test_split(x, Y_train, test_size=0.20, random_state=42, shuffle = True)"
      ],
      "execution_count": null,
      "outputs": []
    },
    {
      "cell_type": "code",
      "metadata": {
        "id": "r2wcrsRzih82"
      },
      "source": [
        "print(X_train.shape)\n",
        "print(X_test.shape)\n",
        "print(y_train.shape)\n",
        "print(y_test.shape)"
      ],
      "execution_count": null,
      "outputs": []
    },
    {
      "cell_type": "code",
      "metadata": {
        "id": "KSYgEKfJiiPN"
      },
      "source": [
        "# Model\n",
        "input_x = Input(shape=(None,4))\n",
        "hidden = Dense(32, activation=\"relu\", kernel_regularizer=regularizers.l2(0.0001))(input_x)\n",
        "hidden = Dense(16, activation=\"relu\", kernel_regularizer=regularizers.l2(0.0001))(hidden)\n",
        "hidden = Dense(16, activation=\"relu\", kernel_regularizer=regularizers.l2(0.0001))(hidden)\n",
        "hidden = Dense(16, activation=\"relu\", kernel_regularizer=regularizers.l2(0.0001))(hidden)\n",
        "hidden = Dense(16, activation=\"relu\", kernel_regularizer=regularizers.l2(0.0001))(hidden)\n",
        "hidden = Dense(16, activation=\"relu\", kernel_regularizer=regularizers.l2(0.0001))(hidden)\n",
        "hidden = Dense(16, activation=\"relu\", kernel_regularizer=regularizers.l2(0.0001))(hidden)\n",
        "output = Dense(5, activation=\"softmax\")(hidden)\n",
        "model = Model(inputs=input_x, outputs=output)"
      ],
      "execution_count": null,
      "outputs": []
    },
    {
      "cell_type": "code",
      "metadata": {
        "id": "FVkhKTnSij_v"
      },
      "source": [
        "model.summary()"
      ],
      "execution_count": null,
      "outputs": []
    },
    {
      "cell_type": "code",
      "metadata": {
        "id": "fMzDIaS9ilre"
      },
      "source": [
        "model.compile(loss='categorical_crossentropy', optimizer=Adam(learning_rate=0.0001), metrics=['accuracy'])"
      ],
      "execution_count": null,
      "outputs": []
    },
    {
      "cell_type": "code",
      "metadata": {
        "id": "dk_p-7o3io6_"
      },
      "source": [
        "history = model.fit(X_train, y_train, batch_size=10, validation_split=0.20,\n",
        "                    epochs=5000,\n",
        "                    verbose=1)"
      ],
      "execution_count": null,
      "outputs": []
    },
    {
      "cell_type": "code",
      "metadata": {
        "id": "QdhM4a3GliHs"
      },
      "source": [
        ""
      ],
      "execution_count": null,
      "outputs": []
    }
  ]
}