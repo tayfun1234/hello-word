{
  "nbformat": 4,
  "nbformat_minor": 0,
  "metadata": {
    "colab": {
      "name": "calisma2.ipynb",
      "private_outputs": true,
      "provenance": [],
      "authorship_tag": "ABX9TyP9NVX4YX2BgAhdEWTb41ww",
      "include_colab_link": true
    },
    "kernelspec": {
      "name": "python3",
      "display_name": "Python 3"
    },
    "language_info": {
      "name": "python"
    }
  },
  "cells": [
    {
      "cell_type": "markdown",
      "metadata": {
        "id": "view-in-github",
        "colab_type": "text"
      },
      "source": [
        "<a href=\"https://colab.research.google.com/github/tayfununal/2-Hidden-Layer-Neural-Networks/blob/master/calisma2.ipynb\" target=\"_parent\"><img src=\"https://colab.research.google.com/assets/colab-badge.svg\" alt=\"Open In Colab\"/></a>"
      ]
    },
    {
      "cell_type": "code",
      "metadata": {
        "id": "vgTMbYehklsy"
      },
      "source": [
        "import numpy as np\n",
        "import pandas as pd\n",
        "import tensorflow as tf\n",
        "from tensorflow.keras import Model, Input\n",
        "from tensorflow.keras.layers import Dense, Softmax\n",
        "from tensorflow.keras.optimizers import Adam, SGD\n",
        "from keras.utils import np_utils\n",
        "from tensorflow.keras import regularizers"
      ],
      "execution_count": null,
      "outputs": []
    },
    {
      "cell_type": "code",
      "metadata": {
        "id": "XtiLWWkzkrbf"
      },
      "source": [
        "# Data\n",
        "df = pd.read_csv ('/content/explicit_max.csv', sep=\",\" , header=None)"
      ],
      "execution_count": null,
      "outputs": []
    },
    {
      "cell_type": "code",
      "metadata": {
        "id": "khtH8ujskuKU"
      },
      "source": [
        "df_fail = df[df[6]>1][df[7]==1]\n",
        "df_fail.index"
      ],
      "execution_count": null,
      "outputs": []
    },
    {
      "cell_type": "code",
      "metadata": {
        "id": "tDic8d-Bk1-E"
      },
      "source": [
        "df = df.drop(index=df_fail.index)\n",
        "df =  df[df[4]>3]\n",
        "df =  df[df[5]>0.10]\n",
        "df"
      ],
      "execution_count": null,
      "outputs": []
    },
    {
      "cell_type": "code",
      "metadata": {
        "id": "Kro8NYaHk32L"
      },
      "source": [
        "x = df[[3,4]]\n",
        "y = df[[7]]"
      ],
      "execution_count": null,
      "outputs": []
    },
    {
      "cell_type": "code",
      "metadata": {
        "id": "746MPxBXk520"
      },
      "source": [
        "x = np.array(x)\n",
        "y = np.squeeze(np.array(y))\n",
        "y.shape"
      ],
      "execution_count": null,
      "outputs": []
    },
    {
      "cell_type": "code",
      "metadata": {
        "id": "6uetJcIdk75z"
      },
      "source": [
        "x = (x - x.min(axis=0)) / (x.max(axis=0) - x.min(axis=0))\n",
        "x"
      ],
      "execution_count": null,
      "outputs": []
    },
    {
      "cell_type": "code",
      "metadata": {
        "id": "6o-DkSKOk_EL"
      },
      "source": [
        "Y_train = np_utils.to_categorical(y)\n",
        "Y_train = Y_train[:,1:]\n",
        "Y_train"
      ],
      "execution_count": null,
      "outputs": []
    },
    {
      "cell_type": "code",
      "metadata": {
        "id": "265zpmcflEa7"
      },
      "source": [
        " from sklearn.model_selection import train_test_split\n",
        " X_train, X_test, y_train, y_test = train_test_split(x, Y_train, test_size=0.20, random_state=42, shuffle = True)"
      ],
      "execution_count": null,
      "outputs": []
    },
    {
      "cell_type": "code",
      "metadata": {
        "id": "2JZ2VqbGlGnl"
      },
      "source": [
        "print(X_train.shape)\n",
        "print(X_test.shape)\n",
        "print(y_train.shape)\n",
        "print(y_test.shape)"
      ],
      "execution_count": null,
      "outputs": []
    },
    {
      "cell_type": "code",
      "metadata": {
        "id": "QDSzUeumlISj"
      },
      "source": [
        "# Model\n",
        "input_x = Input(shape=(None,2))\n",
        "hidden = Dense(512, activation=\"relu\" )(input_x)\n",
        "hidden = Dense(256, activation=\"relu\" )(hidden)\n",
        "hidden = Dense(128, activation=\"relu\" )(hidden)\n",
        "hidden = Dense(64, activation=\"relu\" )(hidden)\n",
        "hidden = Dense(64, activation=\"relu\" )(hidden)\n",
        "hidden = Dense(16, activation=\"relu\" )(hidden)\n",
        "output = Dense(5, activation=\"softmax\")(hidden)\n",
        "model = Model(inputs=input_x, outputs=output)"
      ],
      "execution_count": null,
      "outputs": []
    },
    {
      "cell_type": "code",
      "metadata": {
        "id": "LNNluPRHlLp0"
      },
      "source": [
        "model.summary()"
      ],
      "execution_count": null,
      "outputs": []
    },
    {
      "cell_type": "code",
      "metadata": {
        "id": "eKpuLIj_lNhT"
      },
      "source": [
        "model.compile(loss='categorical_crossentropy', optimizer=Adam(learning_rate=0.0006), metrics=['accuracy'])"
      ],
      "execution_count": null,
      "outputs": []
    },
    {
      "cell_type": "code",
      "metadata": {
        "id": "-HV3p_m3lPt8"
      },
      "source": [
        "history = model.fit(X_train, y_train, batch_size=32, validation_split=0.20,\n",
        "                    epochs=5000,\n",
        "                    verbose=1)"
      ],
      "execution_count": null,
      "outputs": []
    },
    {
      "cell_type": "code",
      "metadata": {
        "id": "0snbQfjVlRyk"
      },
      "source": [
        ""
      ],
      "execution_count": null,
      "outputs": []
    }
  ]
}