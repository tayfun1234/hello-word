{
  "nbformat": 4,
  "nbformat_minor": 0,
  "metadata": {
    "colab": {
      "name": "calisma_son.ipynb",
      "private_outputs": true,
      "provenance": [],
      "authorship_tag": "ABX9TyMMrYeKp1roWCtiB6Vj/IhW",
      "include_colab_link": true
    },
    "kernelspec": {
      "name": "python3",
      "display_name": "Python 3"
    },
    "language_info": {
      "name": "python"
    }
  },
  "cells": [
    {
      "cell_type": "markdown",
      "metadata": {
        "id": "view-in-github",
        "colab_type": "text"
      },
      "source": [
        "<a href=\"https://colab.research.google.com/github/tayfununal/2-Hidden-Layer-Neural-Networks/blob/master/calisma_son.ipynb\" target=\"_parent\"><img src=\"https://colab.research.google.com/assets/colab-badge.svg\" alt=\"Open In Colab\"/></a>"
      ]
    },
    {
      "cell_type": "code",
      "execution_count": null,
      "metadata": {
        "id": "hL0hrGaYXuL_"
      },
      "outputs": [],
      "source": [
        "import numpy as np\n",
        "import pandas as pd\n",
        "import matplotlib.pyplot as plt\n",
        "import seaborn as sns"
      ]
    },
    {
      "cell_type": "code",
      "source": [
        "# Data\n",
        "df = pd.read_csv ('/content/explicit_max.csv', sep=\",\" , header=None)\n",
        "df"
      ],
      "metadata": {
        "id": "hAyc0OvZXvDh"
      },
      "execution_count": null,
      "outputs": []
    },
    {
      "cell_type": "code",
      "source": [
        "df = df[[3,4,5,6,7]]"
      ],
      "metadata": {
        "id": "XxEZh5NCZJRs"
      },
      "execution_count": null,
      "outputs": []
    },
    {
      "cell_type": "code",
      "source": [
        "#sns.pairplot(df)"
      ],
      "metadata": {
        "id": "PbXhbi4TX39J"
      },
      "execution_count": null,
      "outputs": []
    },
    {
      "cell_type": "code",
      "source": [
        "from sklearn.cluster import DBSCAN\n",
        "import numpy as np\n",
        "import matplotlib.pyplot as plt"
      ],
      "metadata": {
        "id": "3ZG-Bvz-Xx76"
      },
      "execution_count": null,
      "outputs": []
    },
    {
      "cell_type": "code",
      "source": [
        "clustering = DBSCAN(eps=150, min_samples=100).fit(df)"
      ],
      "metadata": {
        "id": "j6LeDT9wbr0t"
      },
      "execution_count": null,
      "outputs": []
    },
    {
      "cell_type": "code",
      "source": [
        "clustering.labels_[clustering.labels_==0].shape"
      ],
      "metadata": {
        "id": "_FsHUQpXcP5S"
      },
      "execution_count": null,
      "outputs": []
    },
    {
      "cell_type": "code",
      "source": [
        "df.loc[np.where(clustering.labels_==0)]"
      ],
      "metadata": {
        "id": "eIXbv7iSc6kC"
      },
      "execution_count": null,
      "outputs": []
    },
    {
      "cell_type": "code",
      "source": [
        "katılımcı = df.loc[np.where(clustering.labels_==0)]\n",
        "aykırı = df.loc[np.where(clustering.labels_==-1)]"
      ],
      "metadata": {
        "id": "E4QStJDjb2ex"
      },
      "execution_count": null,
      "outputs": []
    },
    {
      "cell_type": "code",
      "source": [
        "plt.scatter(katılımcı[[3]], katılımcı[[4]], c=\"green\")\n",
        "plt.scatter(aykırı[[3]], aykırı[[4]], c=\"red\")"
      ],
      "metadata": {
        "id": "0LB4-3Msb2ip"
      },
      "execution_count": null,
      "outputs": []
    },
    {
      "cell_type": "code",
      "source": [
        "df = df.loc[np.where(clustering.labels_==0)]\n",
        "df"
      ],
      "metadata": {
        "id": "paE7rCzAhyOr"
      },
      "execution_count": null,
      "outputs": []
    },
    {
      "cell_type": "code",
      "source": [
        "df.loc[:][7]<=2\n",
        "df.loc[:][7][df.loc[:][7]<=2]=0\n",
        "\n",
        "df.loc[:][7]>=3\n",
        "df.loc[:][7][df.loc[:][7]>=3]=1"
      ],
      "metadata": {
        "id": "jG4-zlB-lzpr"
      },
      "execution_count": null,
      "outputs": []
    },
    {
      "cell_type": "code",
      "source": [
        "df"
      ],
      "metadata": {
        "id": "jrPGE1mcn1ua"
      },
      "execution_count": null,
      "outputs": []
    },
    {
      "cell_type": "code",
      "source": [
        "x = df[[3,4]]\n",
        "y = df[[7]]"
      ],
      "metadata": {
        "id": "O_4IcDGGgHD1"
      },
      "execution_count": null,
      "outputs": []
    },
    {
      "cell_type": "code",
      "source": [
        "x = np.array(x)\n",
        "y = np.squeeze(np.array(y))\n",
        "x.shape"
      ],
      "metadata": {
        "id": "IR84BmVjhqXN"
      },
      "execution_count": null,
      "outputs": []
    },
    {
      "cell_type": "code",
      "source": [
        "x = (x - x.min(axis=0)) / (x.max(axis=0) - x.min(axis=0))\n",
        "x"
      ],
      "metadata": {
        "id": "Yulib93whsXN"
      },
      "execution_count": null,
      "outputs": []
    },
    {
      "cell_type": "code",
      "source": [
        "import numpy as np\n",
        "import pandas as pd\n",
        "import tensorflow as tf\n",
        "from tensorflow.keras import Model, Input\n",
        "from tensorflow.keras.layers import Dense, Softmax\n",
        "from tensorflow.keras.optimizers import Adam, SGD\n",
        "from keras.utils import np_utils\n",
        "from tensorflow.keras import regularizers"
      ],
      "metadata": {
        "id": "KNUj776Zir70"
      },
      "execution_count": null,
      "outputs": []
    },
    {
      "cell_type": "code",
      "source": [
        "\"\"\"\"Y_train = np_utils.to_categorical(y)\n",
        "Y_train = Y_train[:,1:]\n",
        "Y_train\"\"\""
      ],
      "metadata": {
        "id": "WCXSb5wbimIU"
      },
      "execution_count": null,
      "outputs": []
    },
    {
      "cell_type": "code",
      "source": [
        "from sklearn.model_selection import train_test_split\n",
        "X_train, X_test, y_train, y_test = train_test_split(x, y, test_size=0.20, random_state=42, shuffle = True)"
      ],
      "metadata": {
        "id": "BZ5px7p0imLK"
      },
      "execution_count": null,
      "outputs": []
    },
    {
      "cell_type": "code",
      "source": [
        "print(X_train.shape)\n",
        "print(X_test.shape)\n",
        "print(y_train.shape)\n",
        "print(y_test.shape)"
      ],
      "metadata": {
        "id": "Dj_znhUlimOa"
      },
      "execution_count": null,
      "outputs": []
    },
    {
      "cell_type": "code",
      "source": [
        "# Model\n",
        "input_x = Input(shape=(None,2))\n",
        "hidden = Dense(512, activation=\"relu\" )(input_x)\n",
        "hidden = Dense(512, activation=\"relu\" )(hidden)\n",
        "output = Dense(1, activation=\"sigmoid\")(hidden)\n",
        "model = Model(inputs=input_x, outputs=output)"
      ],
      "metadata": {
        "id": "mFGph1UkimRz"
      },
      "execution_count": null,
      "outputs": []
    },
    {
      "cell_type": "code",
      "source": [
        "model.summary()"
      ],
      "metadata": {
        "id": "IbbuE5RMimUr"
      },
      "execution_count": null,
      "outputs": []
    },
    {
      "cell_type": "code",
      "source": [
        "model.compile(loss='binary_crossentropy', optimizer=Adam(learning_rate=0.001), metrics=['accuracy'])"
      ],
      "metadata": {
        "id": "at0nAEM4jftO"
      },
      "execution_count": null,
      "outputs": []
    },
    {
      "cell_type": "code",
      "source": [
        "history = model.fit(X_train, y_train, batch_size=128, validation_split=0.20,\n",
        "                    epochs=200,\n",
        "                    verbose=1)"
      ],
      "metadata": {
        "id": "r6pMhyptjhpk"
      },
      "execution_count": null,
      "outputs": []
    },
    {
      "cell_type": "code",
      "source": [
        "sample_to_predict = X_test\n",
        "y_sample = y_test"
      ],
      "metadata": {
        "id": "l8MDFVC8jk36"
      },
      "execution_count": null,
      "outputs": []
    },
    {
      "cell_type": "code",
      "source": [
        "print(sample_to_predict.shape)\n",
        "print(y_sample.shape)\n",
        "np.where(y_sample==1)"
      ],
      "metadata": {
        "id": "erbF-WpRqaIu"
      },
      "execution_count": null,
      "outputs": []
    },
    {
      "cell_type": "code",
      "source": [
        "predictions = model.predict(sample_to_predict)"
      ],
      "metadata": {
        "id": "Ag6jeVM4qbgX"
      },
      "execution_count": null,
      "outputs": []
    },
    {
      "cell_type": "code",
      "source": [
        "print(predictions)"
      ],
      "metadata": {
        "id": "AI3B7Wb7qmEa"
      },
      "execution_count": null,
      "outputs": []
    },
    {
      "cell_type": "code",
      "source": [
        "y_hat = np.round(predictions)\n",
        "np.where(y_hat==1)\n"
      ],
      "metadata": {
        "id": "EeySzLR8qpMB"
      },
      "execution_count": null,
      "outputs": []
    },
    {
      "cell_type": "code",
      "source": [
        "yanlis=0\n",
        "for i in range(len(y_hat)):\n",
        "  if (np.absolute(y_hat[i] - y_test[i]))> 0:\n",
        "    yanlis+=1\n",
        "print(yanlis)"
      ],
      "metadata": {
        "id": "jGBXusTEqpOf"
      },
      "execution_count": null,
      "outputs": []
    },
    {
      "cell_type": "code",
      "source": [
        "(189-yanlis)/189"
      ],
      "metadata": {
        "id": "mnjb2Ju_qpQ5"
      },
      "execution_count": null,
      "outputs": []
    }
  ]
}