{
  "nbformat": 4,
  "nbformat_minor": 0,
  "metadata": {
    "colab": {
      "name": "calisma4_yapay_veri_uretme.ipynb",
      "private_outputs": true,
      "provenance": [],
      "authorship_tag": "ABX9TyOzpnjGcJnhV2X91hMTMKWh",
      "include_colab_link": true
    },
    "kernelspec": {
      "name": "python3",
      "display_name": "Python 3"
    },
    "language_info": {
      "name": "python"
    }
  },
  "cells": [
    {
      "cell_type": "markdown",
      "metadata": {
        "id": "view-in-github",
        "colab_type": "text"
      },
      "source": [
        "<a href=\"https://colab.research.google.com/github/tayfununal/2-Hidden-Layer-Neural-Networks/blob/master/calisma4_yapay_veri_uretme.ipynb\" target=\"_parent\"><img src=\"https://colab.research.google.com/assets/colab-badge.svg\" alt=\"Open In Colab\"/></a>"
      ]
    },
    {
      "cell_type": "code",
      "metadata": {
        "id": "Au_snBBWsSkH"
      },
      "source": [
        "import numpy as np\n",
        "import matplotlib.pyplot as plt"
      ],
      "execution_count": null,
      "outputs": []
    },
    {
      "cell_type": "code",
      "metadata": {
        "id": "7dMemaTJEE5a"
      },
      "source": [
        "kelime_sayısı = set(np.random.randint(20,800,400))\n",
        "kelime_sayısı = list(kelime_sayısı)\n",
        "kelime_sayısı = np.array(kelime_sayısı)\n",
        "kelime_sayısı"
      ],
      "execution_count": null,
      "outputs": []
    },
    {
      "cell_type": "code",
      "metadata": {
        "id": "kT9jSJDv1rxG"
      },
      "source": [
        "plt.hist(kelime_sayısı)\n",
        "plt.show()"
      ],
      "execution_count": null,
      "outputs": []
    },
    {
      "cell_type": "code",
      "metadata": {
        "id": "EI1UdQ2fxc4W"
      },
      "source": [
        "kalma_suresi = []\n",
        "for i in kelime_sayısı:\n",
        "  kalma_suresi.append(0.161 * i + 6)\n",
        "y = np.array(kalma_suresi)\n",
        "print(kalma_suresi)"
      ],
      "execution_count": null,
      "outputs": []
    },
    {
      "cell_type": "code",
      "metadata": {
        "id": "g_3xOZHfW4Ue"
      },
      "source": [
        "plt.hist(y)\n",
        "plt.show()"
      ],
      "execution_count": null,
      "outputs": []
    },
    {
      "cell_type": "code",
      "metadata": {
        "id": "3ahg8-rIEqp5"
      },
      "source": [
        "data = []\n",
        "kelime_yaz = 0\n",
        "for j in y:\n",
        "  sample = np.random.normal(j,5,20)\n",
        "  for k in sample:\n",
        "    data.append([kelime_sayısı[kelime_yaz], j, k])\n",
        "  kelime_yaz +=1\n",
        "len(data)"
      ],
      "execution_count": null,
      "outputs": []
    },
    {
      "cell_type": "code",
      "metadata": {
        "id": "KQnCg-r33uRe"
      },
      "source": [
        ""
      ],
      "execution_count": null,
      "outputs": []
    },
    {
      "cell_type": "code",
      "metadata": {
        "id": "LbFi2o9gGdcZ"
      },
      "source": [
        "data"
      ],
      "execution_count": null,
      "outputs": []
    },
    {
      "cell_type": "code",
      "metadata": {
        "id": "_Sxx6w1TaYvD"
      },
      "source": [
        "y = []\n",
        "for i in range(0,len(data)):\n",
        "  if data[i][2] < data[i][1] - 2:\n",
        "    y.append(0)\n",
        "  else:\n",
        "    y.append(1)\n"
      ],
      "execution_count": null,
      "outputs": []
    },
    {
      "cell_type": "code",
      "metadata": {
        "id": "XLPTBxVGbUmQ"
      },
      "source": [
        "data = np.array(data)\n",
        "y = np.array(y)\n",
        "\n",
        "data = np.c_[data,y]"
      ],
      "execution_count": null,
      "outputs": []
    },
    {
      "cell_type": "code",
      "metadata": {
        "id": "KA3-XqJtYIH2"
      },
      "source": [
        "import pandas as pd"
      ],
      "execution_count": null,
      "outputs": []
    },
    {
      "cell_type": "code",
      "metadata": {
        "id": "wYFP8yoYZdDm"
      },
      "source": [
        "df = pd.DataFrame(data,columns=[\"kelime_sayısı\", \"gerçek_zaman\", \"normal_dağılımdan_gelen_zaman\",\"tahmin\"])"
      ],
      "execution_count": null,
      "outputs": []
    },
    {
      "cell_type": "code",
      "metadata": {
        "id": "aYzlzq4FZh6N"
      },
      "source": [
        "df"
      ],
      "execution_count": null,
      "outputs": []
    },
    {
      "cell_type": "code",
      "metadata": {
        "id": "VZg2pCegfqbh"
      },
      "source": [
        "df[df[\"tahmin\"]==0]"
      ],
      "execution_count": null,
      "outputs": []
    },
    {
      "cell_type": "code",
      "metadata": {
        "id": "6EhlBUhIZidl"
      },
      "source": [
        "plt.hist(df['normal_dağılımdan_gelen_zaman'])\n",
        "plt.show()"
      ],
      "execution_count": null,
      "outputs": []
    },
    {
      "cell_type": "code",
      "metadata": {
        "id": "J5sc_A7kdnBL"
      },
      "source": [
        "for i in df['normal_dağılımdan_gelen_zaman']:\n",
        "  if i<0:\n",
        "    print(i)"
      ],
      "execution_count": null,
      "outputs": []
    },
    {
      "cell_type": "code",
      "metadata": {
        "id": "FsXTum4-d39r"
      },
      "source": [
        "df[df['normal_dağılımdan_gelen_zaman']<0]"
      ],
      "execution_count": null,
      "outputs": []
    },
    {
      "cell_type": "code",
      "metadata": {
        "id": "Iqm6y9C9glBJ"
      },
      "source": [
        "fig = plt.figure()\n",
        " \n",
        "# syntax for 3-D projection\n",
        "ax = plt.axes(projection ='3d')\n",
        " \n",
        "# defining all 3 axes\n",
        "z = df[\"tahmin\"]\n",
        "x_1 = df[\"kelime_sayısı\"]\n",
        "y = df[\"normal_dağılımdan_gelen_zaman\"]\n",
        " \n",
        "# plotting\n",
        "ax.scatter(x_1, y, z, 'green')\n",
        "ax.set_title('3D line plot geeks for geeks')\n",
        "plt.show()"
      ],
      "execution_count": null,
      "outputs": []
    },
    {
      "cell_type": "code",
      "metadata": {
        "id": "2voi-rLHhx9M"
      },
      "source": [
        "plt.scatter(x_1,y)\n",
        "plt.plot()"
      ],
      "execution_count": null,
      "outputs": []
    },
    {
      "cell_type": "code",
      "metadata": {
        "id": "uouROJ60h4xA"
      },
      "source": [
        "import numpy as np\n",
        "import pandas as pd\n",
        "import tensorflow as tf\n",
        "from tensorflow.keras import Model, Input\n",
        "from tensorflow.keras.layers import Dense, Softmax\n",
        "from tensorflow.keras.optimizers import Adam, SGD\n",
        "from keras.utils import np_utils\n",
        "from tensorflow.keras import regularizers"
      ],
      "execution_count": null,
      "outputs": []
    },
    {
      "cell_type": "code",
      "metadata": {
        "id": "r9N-FXYk3J36"
      },
      "source": [
        "df = df[df[\"normal_dağılımdan_gelen_zaman\"]>0] "
      ],
      "execution_count": null,
      "outputs": []
    },
    {
      "cell_type": "code",
      "metadata": {
        "id": "zxSsz3CZsXa7"
      },
      "source": [
        "x = df[[\"kelime_sayısı\",\"normal_dağılımdan_gelen_zaman\"]]\n",
        "y = df[[\"tahmin\"]]"
      ],
      "execution_count": null,
      "outputs": []
    },
    {
      "cell_type": "code",
      "metadata": {
        "id": "YyEHkZGwsdUq"
      },
      "source": [
        "x"
      ],
      "execution_count": null,
      "outputs": []
    },
    {
      "cell_type": "code",
      "metadata": {
        "id": "4sqre_hdsspq"
      },
      "source": [
        "x = np.array(x)\n",
        "y = np.squeeze(np.array(y))\n",
        "y.shape"
      ],
      "execution_count": null,
      "outputs": []
    },
    {
      "cell_type": "code",
      "metadata": {
        "id": "DFk6XgPTsz4a"
      },
      "source": [
        "from sklearn.model_selection import train_test_split\n",
        "X_train, X_test, y_train, y_test = train_test_split(x, y, test_size=0.20, random_state=42, shuffle = True)"
      ],
      "execution_count": null,
      "outputs": []
    },
    {
      "cell_type": "code",
      "metadata": {
        "id": "NXJit7Kns5Mi"
      },
      "source": [
        "print(X_train.shape)\n",
        "print(X_test.shape)\n",
        "print(y_train.shape)\n",
        "print(y_test.shape)"
      ],
      "execution_count": null,
      "outputs": []
    },
    {
      "cell_type": "code",
      "metadata": {
        "id": "S8ZqvqRgtA3p"
      },
      "source": [
        "# Model\n",
        "input_x = Input(shape=(None,2))\n",
        "hidden = Dense(512, activation=\"relu\", kernel_regularizer=regularizers.l2(0.01))(input_x)\n",
        "hidden = Dense(256, activation=\"relu\", kernel_regularizer=regularizers.l2(0.01))(hidden)\n",
        "hidden = Dense(128, activation=\"relu\", kernel_regularizer=regularizers.l2(0.01))(hidden)\n",
        "hidden = Dense(32, activation=\"relu\", kernel_regularizer=regularizers.l2(0.01))(hidden)\n",
        "hidden = Dense(32, activation=\"relu\", kernel_regularizer=regularizers.l2(0.01))(hidden)\n",
        "hidden = Dense(8, activation=\"relu\", kernel_regularizer=regularizers.l2(0.01))(hidden)\n",
        "output = Dense(1, activation=\"sigmoid\")(hidden)\n",
        "model = Model(inputs=input_x, outputs=output)"
      ],
      "execution_count": null,
      "outputs": []
    },
    {
      "cell_type": "code",
      "metadata": {
        "id": "YwJQv_autE3l"
      },
      "source": [
        "model.summary()\n"
      ],
      "execution_count": null,
      "outputs": []
    },
    {
      "cell_type": "code",
      "metadata": {
        "id": "4xmJAYJEtGXh"
      },
      "source": [
        "model.compile(loss='binary_crossentropy', optimizer=Adam(learning_rate=0.0003), metrics=['accuracy'])\n"
      ],
      "execution_count": null,
      "outputs": []
    },
    {
      "cell_type": "code",
      "metadata": {
        "id": "sstVwbF8tIWh"
      },
      "source": [
        "history = model.fit(X_train, y_train, batch_size=16, validation_split=0.20,\n",
        "                    epochs=20,\n",
        "                    verbose=1)"
      ],
      "execution_count": null,
      "outputs": []
    },
    {
      "cell_type": "code",
      "metadata": {
        "id": "5u2XPXqhtKXZ"
      },
      "source": [
        "sample_to_predict = X_test\n",
        "y_sample = y_test"
      ],
      "execution_count": null,
      "outputs": []
    },
    {
      "cell_type": "code",
      "metadata": {
        "id": "At6GioN5tb-W"
      },
      "source": [
        "print(sample_to_predict)\n",
        "print(y_sample)"
      ],
      "execution_count": null,
      "outputs": []
    },
    {
      "cell_type": "code",
      "metadata": {
        "id": "zSmEwsi9tduV"
      },
      "source": [
        "print(sample_to_predict.shape)\n",
        "print(y_sample.shape)\n",
        "y_sample"
      ],
      "execution_count": null,
      "outputs": []
    },
    {
      "cell_type": "code",
      "metadata": {
        "id": "Iq8KZjRLtfo1"
      },
      "source": [
        "predictions = model.predict(sample_to_predict)"
      ],
      "execution_count": null,
      "outputs": []
    },
    {
      "cell_type": "code",
      "metadata": {
        "id": "84aBSe-OthA3"
      },
      "source": [
        "print(predictions)"
      ],
      "execution_count": null,
      "outputs": []
    },
    {
      "cell_type": "code",
      "metadata": {
        "id": "uQs1rOQjtijf"
      },
      "source": [
        "y_hat = np.round(predictions)\n",
        "y_hat"
      ],
      "execution_count": null,
      "outputs": []
    },
    {
      "cell_type": "code",
      "metadata": {
        "id": "rbylHTtTtiqz"
      },
      "source": [
        "yanlis=0\n",
        "for i in range(len(y_hat)):\n",
        "  if (np.absolute(y_hat[i] - y_test[i]))> 0:\n",
        "    yanlis+=1\n",
        "print(yanlis)"
      ],
      "execution_count": null,
      "outputs": []
    },
    {
      "cell_type": "code",
      "metadata": {
        "id": "22u6RzTVtitb"
      },
      "source": [
        "(1600-yanlis)/1600"
      ],
      "execution_count": null,
      "outputs": []
    },
    {
      "cell_type": "code",
      "metadata": {
        "id": "9qdRUqZQtixE"
      },
      "source": [
        "# Data\n",
        "df = pd.read_csv ('/content/explicit_max.csv', sep=\",\" , header=None)\n",
        "df"
      ],
      "execution_count": null,
      "outputs": []
    },
    {
      "cell_type": "code",
      "metadata": {
        "id": "gRoOED3eusas"
      },
      "source": [
        "df_fail = df[df[6]>1][df[7]==1]\n",
        "df_fail"
      ],
      "execution_count": null,
      "outputs": []
    },
    {
      "cell_type": "code",
      "metadata": {
        "id": "nBZQhQzJuxb_"
      },
      "source": [
        "df = df.drop(index=df_fail.index)\n",
        "df =  df[df[4]>3]\n",
        "df =  df[df[5]>0.20]\n",
        "df"
      ],
      "execution_count": null,
      "outputs": []
    },
    {
      "cell_type": "code",
      "metadata": {
        "id": "2CYWLLxWt-Kq"
      },
      "source": [
        "x = df[[3,4]]\n",
        "y = df[[7]]"
      ],
      "execution_count": null,
      "outputs": []
    },
    {
      "cell_type": "code",
      "metadata": {
        "id": "y6I0z6GduHBK"
      },
      "source": [
        "x = np.array(x)\n",
        "y = np.squeeze(np.array(y))\n",
        "y.shape"
      ],
      "execution_count": null,
      "outputs": []
    },
    {
      "cell_type": "code",
      "metadata": {
        "id": "xVKiLmBUxjYw"
      },
      "source": [
        "y[y==1] = 0\n",
        "y[y>1] =1"
      ],
      "execution_count": null,
      "outputs": []
    },
    {
      "cell_type": "code",
      "metadata": {
        "id": "YS8nk6GLuRmf"
      },
      "source": [
        "sample_to_predict = x\n",
        "y_sample = y"
      ],
      "execution_count": null,
      "outputs": []
    },
    {
      "cell_type": "code",
      "metadata": {
        "id": "yr4T9JL-uRpF"
      },
      "source": [
        "predictions = model.predict(sample_to_predict)"
      ],
      "execution_count": null,
      "outputs": []
    },
    {
      "cell_type": "code",
      "metadata": {
        "id": "TpeDOfe1uRrX"
      },
      "source": [
        "y_hat = np.round(predictions)"
      ],
      "execution_count": null,
      "outputs": []
    },
    {
      "cell_type": "code",
      "metadata": {
        "id": "IYJiCYIGuRtd"
      },
      "source": [
        "yanlis=0\n",
        "for i in range(len(y_hat)):\n",
        "  if (np.absolute(y_hat[i] - y_test[i]))> 0:\n",
        "    yanlis+=1\n",
        "print(yanlis)"
      ],
      "execution_count": null,
      "outputs": []
    },
    {
      "cell_type": "code",
      "metadata": {
        "id": "MRPejpkOuiRI"
      },
      "source": [
        "(y.shape[0]-yanlis)/y.shape[0]"
      ],
      "execution_count": null,
      "outputs": []
    },
    {
      "cell_type": "code",
      "metadata": {
        "id": "CHoZCujfvIyw"
      },
      "source": [
        ""
      ],
      "execution_count": null,
      "outputs": []
    }
  ]
}