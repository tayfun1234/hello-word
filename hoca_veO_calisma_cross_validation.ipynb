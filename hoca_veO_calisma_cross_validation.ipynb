{
  "nbformat": 4,
  "nbformat_minor": 0,
  "metadata": {
    "colab": {
      "name": "hoca_veO_calisma_cross_validation.ipynb",
      "private_outputs": true,
      "provenance": [],
      "authorship_tag": "ABX9TyOfx5S6Oops7SFebLX+vCgd",
      "include_colab_link": true
    },
    "kernelspec": {
      "name": "python3",
      "display_name": "Python 3"
    },
    "language_info": {
      "name": "python"
    }
  },
  "cells": [
    {
      "cell_type": "markdown",
      "metadata": {
        "id": "view-in-github",
        "colab_type": "text"
      },
      "source": [
        "<a href=\"https://colab.research.google.com/github/tayfununal/2-Hidden-Layer-Neural-Networks/blob/master/hoca_veO_calisma_cross_validation.ipynb\" target=\"_parent\"><img src=\"https://colab.research.google.com/assets/colab-badge.svg\" alt=\"Open In Colab\"/></a>"
      ]
    },
    {
      "cell_type": "code",
      "execution_count": null,
      "metadata": {
        "id": "cp6I4qMtcGEB"
      },
      "outputs": [],
      "source": [
        "import pandas as pd\n",
        "import numpy as np\n",
        "import tensorflow as tf\n",
        "from tensorflow.keras.utils import to_categorical\n",
        "from tensorflow.keras import Model, Input\n",
        "from tensorflow.keras.layers import Flatten, Dense\n",
        "from tensorflow.keras.losses import CategoricalCrossentropy"
      ]
    },
    {
      "cell_type": "code",
      "source": [
        "df_train =pd.read_csv(\"/content/egitim.csv\")\n",
        "df_test = pd.read_csv(\"/content/test.csv\")"
      ],
      "metadata": {
        "id": "inB_Eb9bcNhS"
      },
      "execution_count": null,
      "outputs": []
    },
    {
      "cell_type": "code",
      "source": [
        "X_train = np.array(df_train[[\"ded\",\"kural_miktar\",\"beslenme\", \"yuzde\",\"toplam arama\"]])\n",
        "y_train = np.array(df_train[[\"durum\"]])\n",
        "X_test = df_test[[\"ded\",\"kural_miktar\",\"beslenme\", \"yuzde\",\"toplam arama\"]]\n",
        "y_test = df_test[[\"durum\"]]"
      ],
      "metadata": {
        "id": "U5u8508dcNjx"
      },
      "execution_count": null,
      "outputs": []
    },
    {
      "cell_type": "code",
      "source": [
        "X_train.shape"
      ],
      "metadata": {
        "id": "zgrVe1G8g1tv"
      },
      "execution_count": null,
      "outputs": []
    },
    {
      "cell_type": "code",
      "source": [
        "#np.random.seed(8)\n",
        "#tf.random.set_seed(8)\n",
        "\n",
        "\n",
        "feature_input = Input(shape=(5,))\n",
        "\n",
        "hidden = Dense(64, activation=\"relu\",kernel_regularizer=tf.keras.regularizers.l2(0.008), bias_regularizer=tf.keras.regularizers.l2(0.008))(feature_input)\n",
        "output = Dense(1, activation='sigmoid')(hidden)\n",
        "\n",
        "model = Model(inputs=feature_input , outputs=output)\n",
        "\n",
        "# Culculating Custom Loss\n",
        "opt = tf.keras.optimizers.Adam(learning_rate=0.001) \n",
        "model.compile(optimizer=opt, loss=\"binary_crossentropy\", metrics=[\"accuracy\"])\n",
        "history = model.fit(X_train, y_train, epochs=550, verbose=1)"
      ],
      "metadata": {
        "id": "bGpNboTYcMWC"
      },
      "execution_count": null,
      "outputs": []
    },
    {
      "cell_type": "code",
      "source": [
        "model.evaluate(X_test,  y_test, verbose=1)"
      ],
      "metadata": {
        "id": "5ZbMuZIDcMbC"
      },
      "execution_count": null,
      "outputs": []
    },
    {
      "cell_type": "code",
      "source": [
        "predictions = model.predict(X_test)\n",
        "print(predictions[0])"
      ],
      "metadata": {
        "id": "O7-kl7pHcMdR"
      },
      "execution_count": null,
      "outputs": []
    }
  ]
}