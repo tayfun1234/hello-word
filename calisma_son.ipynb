{
  "nbformat": 4,
  "nbformat_minor": 0,
  "metadata": {
    "colab": {
      "name": "calisma_son.ipynb",
      "private_outputs": true,
      "provenance": [],
      "authorship_tag": "ABX9TyPcWBPg8CzPClQp9wK2idXJ",
      "include_colab_link": true
    },
    "kernelspec": {
      "name": "python3",
      "display_name": "Python 3"
    },
    "language_info": {
      "name": "python"
    }
  },
  "cells": [
    {
      "cell_type": "markdown",
      "metadata": {
        "id": "view-in-github",
        "colab_type": "text"
      },
      "source": [
        "<a href=\"https://colab.research.google.com/github/tayfununal/2-Hidden-Layer-Neural-Networks/blob/master/calisma_son.ipynb\" target=\"_parent\"><img src=\"https://colab.research.google.com/assets/colab-badge.svg\" alt=\"Open In Colab\"/></a>"
      ]
    },
    {
      "cell_type": "code",
      "execution_count": null,
      "metadata": {
        "id": "hL0hrGaYXuL_"
      },
      "outputs": [],
      "source": [
        "import numpy as np\n",
        "import pandas as pd\n",
        "import matplotlib.pyplot as plt\n",
        "import seaborn as sns"
      ]
    },
    {
      "cell_type": "code",
      "source": [
        "# Data\n",
        "df = pd.read_csv ('/content/explicit_max.csv', sep=\",\" , header=None)\n",
        "df"
      ],
      "metadata": {
        "id": "hAyc0OvZXvDh"
      },
      "execution_count": null,
      "outputs": []
    },
    {
      "cell_type": "code",
      "source": [
        "df = df[[3,4,5,6,7]]\n",
        "df"
      ],
      "metadata": {
        "id": "XxEZh5NCZJRs"
      },
      "execution_count": null,
      "outputs": []
    },
    {
      "cell_type": "code",
      "source": [
        "#sns.pairplot(df)"
      ],
      "metadata": {
        "id": "PbXhbi4TX39J"
      },
      "execution_count": null,
      "outputs": []
    },
    {
      "cell_type": "code",
      "source": [
        "\"\"\"\n",
        "from sklearn.cluster import DBSCAN\n",
        "import numpy as np\n",
        "import matplotlib.pyplot as plt\n",
        "\"\"\""
      ],
      "metadata": {
        "id": "3ZG-Bvz-Xx76"
      },
      "execution_count": null,
      "outputs": []
    },
    {
      "cell_type": "code",
      "source": [
        "\"\"\"\n",
        "clustering = DBSCAN(eps=10, min_samples=20).fit(df)\n",
        "clustering.labels_[clustering.labels_==0].shape\n",
        "\"\"\""
      ],
      "metadata": {
        "id": "j6LeDT9wbr0t"
      },
      "execution_count": null,
      "outputs": []
    },
    {
      "cell_type": "code",
      "source": [
        "\"\"\"\n",
        "katilimci = df.loc[np.where(clustering.labels_==0)]\n",
        "aykırı = df.loc[np.where(clustering.labels_==-1)]\n",
        "\"\"\""
      ],
      "metadata": {
        "id": "E4QStJDjb2ex"
      },
      "execution_count": null,
      "outputs": []
    },
    {
      "cell_type": "code",
      "source": [
        "# Data\n",
        "\"\"\"\n",
        "y_df = pd.read_csv ('/content/explicit_max.csv', sep=\",\" , header=None)\n",
        "\n",
        "y_df = y_df.loc[np.where(clustering.labels_==0)][7]\n",
        "df = pd.concat([katilimci, y_df],axis=1)\n",
        "\"\"\""
      ],
      "metadata": {
        "id": "gLwwHGMNY7g5"
      },
      "execution_count": null,
      "outputs": []
    },
    {
      "cell_type": "code",
      "source": [
        "\"\"\"df.loc[:][df[:][7]>1]\"\"\""
      ],
      "metadata": {
        "id": "-uFO5xzAdL-9"
      },
      "execution_count": null,
      "outputs": []
    },
    {
      "cell_type": "code",
      "source": [
        "\"\"\"\n",
        "c_1 = df.loc[:][df.loc[:][7]==1]\n",
        "c_2 = df.loc[:][df.loc[:][7]==2]\n",
        "c_3 = df.loc[:][df.loc[:][7]==3]\n",
        "c_4 = df.loc[:][df.loc[:][7]==4]\n",
        "c_5 = df.loc[:][df.loc[:][7]==5]\n",
        "\n",
        "plt.scatter(c_1[:][3],c_1[:][4])\n",
        "plt.scatter(c_2[:][3],c_2[:][4])\n",
        "plt.scatter(c_3[:][3],c_3[:][4])\n",
        "plt.scatter(c_4[:][3],c_4[:][4])\n",
        "plt.scatter(c_5[:][3],c_5[:][4])\n",
        "\"\"\""
      ],
      "metadata": {
        "id": "D-jE5iz6ggBU"
      },
      "execution_count": null,
      "outputs": []
    },
    {
      "cell_type": "code",
      "source": [
        "\"\"\"\n",
        "plt.scatter(katılımcı[[3]], katılımcı[[4]], c=\"green\")\n",
        "#plt.scatter(aykırı[[3]], aykırı[[4]], c=\"red\")\n",
        "\"\"\""
      ],
      "metadata": {
        "id": "0LB4-3Msb2ip"
      },
      "execution_count": null,
      "outputs": []
    },
    {
      "cell_type": "code",
      "source": [
        "\"\"\"\n",
        "df = df.loc[np.where(clustering.labels_==0)]\n",
        "df\n",
        "\"\"\""
      ],
      "metadata": {
        "id": "paE7rCzAhyOr"
      },
      "execution_count": null,
      "outputs": []
    },
    {
      "cell_type": "code",
      "source": [
        "\"\"\"\n",
        "df.loc[:][7][df.loc[:][7]<=1]=1\n",
        "\n",
        "\n",
        "df.loc[:][7][df.loc[:][7]==2]=3\n",
        "df.loc[:][7][df.loc[:][7]==3]=3\n",
        "\n",
        "df.loc[:][7][df.loc[:][7]>=4]=2\n",
        "\"\"\""
      ],
      "metadata": {
        "id": "jG4-zlB-lzpr"
      },
      "execution_count": null,
      "outputs": []
    },
    {
      "cell_type": "code",
      "source": [
        "\"\"\"df[df.loc[:][7]==2].shape\"\"\""
      ],
      "metadata": {
        "id": "dIMSg645IWif"
      },
      "execution_count": null,
      "outputs": []
    },
    {
      "cell_type": "code",
      "source": [
        "\"\"\"\n",
        "x = df[[5]]\n",
        "y = df[[7]]\n",
        "\"\"\""
      ],
      "metadata": {
        "id": "O_4IcDGGgHD1"
      },
      "execution_count": null,
      "outputs": []
    },
    {
      "cell_type": "code",
      "source": [
        "\"\"\"\n",
        "x = np.array(x)\n",
        "y = np.squeeze(np.array(y))\n",
        "x.shape\n",
        "\"\"\""
      ],
      "metadata": {
        "id": "IR84BmVjhqXN"
      },
      "execution_count": null,
      "outputs": []
    },
    {
      "cell_type": "code",
      "source": [
        "\"\"\"\n",
        "x = (x - x.min(axis=0)) / (x.max(axis=0) - x.min(axis=0))\n",
        "x\n",
        "\"\"\""
      ],
      "metadata": {
        "id": "Yulib93whsXN"
      },
      "execution_count": null,
      "outputs": []
    },
    {
      "cell_type": "code",
      "source": [
        "\"\"\"\n",
        "a = x[np.where(y[:]==1)]\n",
        "b = x[np.where(y[:]==2)]\n",
        "c = x[np.where(y[:]==3)]\n",
        "plt.scatter(b[:,0],b[:,1])\n",
        "plt.scatter(a[:,0],a[:,1])\n",
        "plt.scatter(c[:,0],c[:,1])\n",
        "\n",
        "plt.show()\n",
        "\"\"\""
      ],
      "metadata": {
        "id": "Ygr0LCOoMTLP"
      },
      "execution_count": null,
      "outputs": []
    },
    {
      "cell_type": "code",
      "source": [
        "\"\"\"\n",
        "plt.scatter(b[:,0],b[:,1])\n",
        "plt.show()\n",
        "\"\"\""
      ],
      "metadata": {
        "id": "-J2h_A5xMYcN"
      },
      "execution_count": null,
      "outputs": []
    },
    {
      "cell_type": "code",
      "source": [
        "import numpy as np\n",
        "import pandas as pd\n",
        "import tensorflow as tf\n",
        "from tensorflow.keras import Model, Input\n",
        "from tensorflow.keras.layers import Dense, Softmax\n",
        "from tensorflow.keras.optimizers import Adam, SGD\n",
        "from keras.utils import np_utils\n",
        "from tensorflow.keras import regularizers"
      ],
      "metadata": {
        "id": "KNUj776Zir70"
      },
      "execution_count": null,
      "outputs": []
    },
    {
      "cell_type": "code",
      "source": [
        "x = df[[3,4,5,6]]\n",
        "y = df[[7]]"
      ],
      "metadata": {
        "id": "DhkZZKvY6K0S"
      },
      "execution_count": null,
      "outputs": []
    },
    {
      "cell_type": "code",
      "source": [
        "x = np.array(x)\n",
        "y = np.squeeze(np.array(y))\n",
        "y.shape"
      ],
      "metadata": {
        "id": "3aMTEaGT6O0z"
      },
      "execution_count": null,
      "outputs": []
    },
    {
      "cell_type": "code",
      "source": [
        "y[np.where(y[:]==1)]=0\n",
        "y[np.where(y[:]==2)]=1\n",
        "y[np.where(y[:]==3)]=1\n",
        "y[np.where(y[:]==4)]=1\n",
        "y[np.where(y[:]==5)]=1"
      ],
      "metadata": {
        "id": "Rms0gr5q69tE"
      },
      "execution_count": null,
      "outputs": []
    },
    {
      "cell_type": "code",
      "source": [
        "(y[np.where(y[:]==0)]).shape"
      ],
      "metadata": {
        "id": "K8UV1XA37HYL"
      },
      "execution_count": null,
      "outputs": []
    },
    {
      "cell_type": "code",
      "source": [
        "(y[np.where(y[:]==1)]).shape"
      ],
      "metadata": {
        "id": "JCWc294L7WXr"
      },
      "execution_count": null,
      "outputs": []
    },
    {
      "cell_type": "code",
      "source": [
        "y"
      ],
      "metadata": {
        "id": "FQ19V_fS7vaX"
      },
      "execution_count": null,
      "outputs": []
    },
    {
      "cell_type": "code",
      "source": [
        "\"\"\"Y_train = np_utils.to_categorical(y)\n",
        "Y_train = Y_train[:,1:]\n",
        "Y_train\"\"\""
      ],
      "metadata": {
        "id": "WCXSb5wbimIU"
      },
      "execution_count": null,
      "outputs": []
    },
    {
      "cell_type": "code",
      "source": [
        "from sklearn.model_selection import train_test_split\n",
        "X_train, X_test, y_train, y_test = train_test_split(x, y, test_size=0.30, random_state=39, shuffle = True, stratify=y)"
      ],
      "metadata": {
        "id": "BZ5px7p0imLK"
      },
      "execution_count": null,
      "outputs": []
    },
    {
      "cell_type": "code",
      "source": [
        "print(X_train.shape)\n",
        "print(X_test.shape)\n",
        "print(y_train.shape)\n",
        "print(y_test.shape)"
      ],
      "metadata": {
        "id": "Dj_znhUlimOa"
      },
      "execution_count": null,
      "outputs": []
    },
    {
      "cell_type": "code",
      "source": [
        "y_test[y_test[:]==0].shape"
      ],
      "metadata": {
        "id": "i7KNaU2Fnsnc"
      },
      "execution_count": null,
      "outputs": []
    },
    {
      "cell_type": "code",
      "source": [
        "y_test[y_test[:]==1].shape"
      ],
      "metadata": {
        "id": "IS4gqfRTn2KE"
      },
      "execution_count": null,
      "outputs": []
    },
    {
      "cell_type": "code",
      "source": [
        "# Model\n",
        "input_x = Input(shape=(None,4))\n",
        "hidden = Dense(512, activation=\"relu\" )(input_x)\n",
        "hidden = Dense(512, activation=\"relu\" )(hidden)\n",
        "output = Dense(1, activation='sigmoid')(hidden)\n",
        "model = Model(inputs=input_x, outputs=output)"
      ],
      "metadata": {
        "id": "mFGph1UkimRz"
      },
      "execution_count": null,
      "outputs": []
    },
    {
      "cell_type": "code",
      "source": [
        "model.summary()"
      ],
      "metadata": {
        "id": "IbbuE5RMimUr"
      },
      "execution_count": null,
      "outputs": []
    },
    {
      "cell_type": "code",
      "source": [
        "model.compile(loss='binary_crossentropy', optimizer=Adam(learning_rate=0.0001), metrics=['accuracy'])"
      ],
      "metadata": {
        "id": "at0nAEM4jftO"
      },
      "execution_count": null,
      "outputs": []
    },
    {
      "cell_type": "code",
      "source": [
        "history = model.fit(X_train, y_train, batch_size=4, validation_split=0.20,\n",
        "                    epochs=200,\n",
        "                    verbose=1)"
      ],
      "metadata": {
        "id": "r6pMhyptjhpk"
      },
      "execution_count": null,
      "outputs": []
    },
    {
      "cell_type": "code",
      "source": [
        "sample_to_predict = X_test\n",
        "y_sample = y_test\n",
        "y_test"
      ],
      "metadata": {
        "id": "l8MDFVC8jk36"
      },
      "execution_count": null,
      "outputs": []
    },
    {
      "cell_type": "code",
      "source": [
        "print(sample_to_predict.shape)\n",
        "print(y_sample.shape)\n",
        "np.where(y_sample==1)"
      ],
      "metadata": {
        "id": "erbF-WpRqaIu"
      },
      "execution_count": null,
      "outputs": []
    },
    {
      "cell_type": "code",
      "source": [
        "predictions = model.predict(sample_to_predict)"
      ],
      "metadata": {
        "id": "Ag6jeVM4qbgX"
      },
      "execution_count": null,
      "outputs": []
    },
    {
      "cell_type": "code",
      "source": [
        "print(predictions)"
      ],
      "metadata": {
        "id": "AI3B7Wb7qmEa"
      },
      "execution_count": null,
      "outputs": []
    },
    {
      "cell_type": "code",
      "source": [
        "y_hat = [0 if i<0.5 else 1 for i in np.round(predictions.reshape(-1))] "
      ],
      "metadata": {
        "id": "EeySzLR8qpMB"
      },
      "execution_count": null,
      "outputs": []
    },
    {
      "cell_type": "code",
      "source": [
        "y_hat"
      ],
      "metadata": {
        "id": "DXm4TIa1-Wq6"
      },
      "execution_count": null,
      "outputs": []
    },
    {
      "cell_type": "code",
      "source": [
        "yanlis=0\n",
        "for i in range(len(y_hat)):\n",
        "  if (np.absolute(y_hat[i] - y_test[i]))> 0:\n",
        "    yanlis+=1\n",
        "print(yanlis)"
      ],
      "metadata": {
        "id": "jGBXusTEqpOf"
      },
      "execution_count": null,
      "outputs": []
    },
    {
      "cell_type": "code",
      "source": [
        "(292-yanlis)/292"
      ],
      "metadata": {
        "id": "mnjb2Ju_qpQ5"
      },
      "execution_count": null,
      "outputs": []
    },
    {
      "cell_type": "code",
      "source": [
        "m = tf.keras.metrics.Precision()\n",
        "m.update_state(list(y_sample), y_hat)\n",
        "m.result().numpy()"
      ],
      "metadata": {
        "id": "W5y_ib2U9KeQ"
      },
      "execution_count": null,
      "outputs": []
    },
    {
      "cell_type": "code",
      "source": [
        "y_test"
      ],
      "metadata": {
        "id": "uVRcrhE09pmo"
      },
      "execution_count": null,
      "outputs": []
    },
    {
      "cell_type": "code",
      "source": [
        "np.array(y_hat)"
      ],
      "metadata": {
        "id": "FoEPXpFD9ukg"
      },
      "execution_count": null,
      "outputs": []
    },
    {
      "cell_type": "code",
      "source": [
        ""
      ],
      "metadata": {
        "id": "vdlGSzPW9wAf"
      },
      "execution_count": null,
      "outputs": []
    }
  ]
}