{
  "nbformat": 4,
  "nbformat_minor": 0,
  "metadata": {
    "colab": {
      "name": "Untitled47.ipynb",
      "private_outputs": true,
      "provenance": [],
      "authorship_tag": "ABX9TyNwKkkA7tr+hKJrODGVZ/pn",
      "include_colab_link": true
    },
    "kernelspec": {
      "name": "python3",
      "display_name": "Python 3"
    },
    "language_info": {
      "name": "python"
    }
  },
  "cells": [
    {
      "cell_type": "markdown",
      "metadata": {
        "id": "view-in-github",
        "colab_type": "text"
      },
      "source": [
        "<a href=\"https://colab.research.google.com/github/tayfununal/2-Hidden-Layer-Neural-Networks/blob/master/calisma3.ipynb\" target=\"_parent\"><img src=\"https://colab.research.google.com/assets/colab-badge.svg\" alt=\"Open In Colab\"/></a>"
      ]
    },
    {
      "cell_type": "code",
      "metadata": {
        "id": "FF_rh6x1W3XN"
      },
      "source": [
        "import numpy as np\n",
        "import pandas as pd\n",
        "import matplotlib.pyplot as plt"
      ],
      "execution_count": null,
      "outputs": []
    },
    {
      "cell_type": "code",
      "metadata": {
        "id": "mWFdTSOXW-Nd"
      },
      "source": [
        "# Data\n",
        "df = pd.read_csv ('/content/explicit_max.csv', sep=\",\" , header=None)"
      ],
      "execution_count": null,
      "outputs": []
    },
    {
      "cell_type": "code",
      "metadata": {
        "id": "tCsoVmcjkBL_"
      },
      "source": [
        "df_fail = df[df[6]>1][df[7]==1]\n",
        "df_fail"
      ],
      "execution_count": null,
      "outputs": []
    },
    {
      "cell_type": "code",
      "metadata": {
        "id": "621O4p_zkB1a"
      },
      "source": [
        "df_fail.index"
      ],
      "execution_count": null,
      "outputs": []
    },
    {
      "cell_type": "code",
      "metadata": {
        "id": "f_375t2akEot"
      },
      "source": [
        "df = df.drop(index=df_fail.index)\n",
        "df =  df[df[4]>3]\n",
        "df =  df[df[5]>0.10]\n",
        "df"
      ],
      "execution_count": null,
      "outputs": []
    },
    {
      "cell_type": "code",
      "metadata": {
        "id": "sqNWDIYVXAG7"
      },
      "source": [
        "x = df[[3,4]]\n",
        "y = df[[7]]\n"
      ],
      "execution_count": null,
      "outputs": []
    },
    {
      "cell_type": "code",
      "metadata": {
        "id": "7DUchCzRXPsY"
      },
      "source": [
        "x = np.array(x)\n",
        "y = np.squeeze(np.array(y))\n",
        "y.shape"
      ],
      "execution_count": null,
      "outputs": []
    },
    {
      "cell_type": "code",
      "metadata": {
        "id": "rVRciIkHXUMM"
      },
      "source": [
        "plt.scatter(x[:,0],x[:,1])"
      ],
      "execution_count": null,
      "outputs": []
    },
    {
      "cell_type": "code",
      "metadata": {
        "id": "PTHhv7vWZLq2"
      },
      "source": [
        "x[:900,0].shape\n",
        "x[:900,1].shape"
      ],
      "execution_count": null,
      "outputs": []
    },
    {
      "cell_type": "code",
      "metadata": {
        "id": "s8FN6sHVXUiM"
      },
      "source": [
        "fig = plt.figure()\n",
        " \n",
        "# syntax for 3-D projection\n",
        "ax = plt.axes(projection ='3d')\n",
        " \n",
        "# defining all 3 axes\n",
        "z = y\n",
        "x_1 = x[:,0]\n",
        "y = x[:,1]\n",
        " \n",
        "# plotting\n",
        "ax.scatter(x_1, y, z, 'green')\n",
        "ax.set_title('3D line plot geeks for geeks')\n",
        "plt.show()"
      ],
      "execution_count": null,
      "outputs": []
    },
    {
      "cell_type": "code",
      "metadata": {
        "id": "Yhypor5zaSbK"
      },
      "source": [
        ""
      ],
      "execution_count": null,
      "outputs": []
    }
  ]
}